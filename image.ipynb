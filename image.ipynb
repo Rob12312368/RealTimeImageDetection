{
 "cells": [
  {
   "cell_type": "code",
   "execution_count": 3,
   "metadata": {},
   "outputs": [],
   "source": [
    "import cv2\n",
    "import os\n",
    "import time\n",
    "import uuid"
   ]
  },
  {
   "cell_type": "code",
   "execution_count": 2,
   "metadata": {},
   "outputs": [],
   "source": [
    "images_path = './collectedimages/'"
   ]
  },
  {
   "cell_type": "code",
   "execution_count": 4,
   "metadata": {},
   "outputs": [],
   "source": [
    "labels = ['yes']\n",
    "number_imgs = 10"
   ]
  },
  {
   "cell_type": "code",
   "execution_count": 5,
   "metadata": {},
   "outputs": [
    {
     "name": "stderr",
     "output_type": "stream",
     "text": [
      "�l�ؿ����ɮ� D:\\collectedimages\\yes �w�g�s�b�C\n"
     ]
    },
    {
     "name": "stdout",
     "output_type": "stream",
     "text": [
      "Collecting images for yes\n",
      "photo 1\n",
      "D:\\collectedimages\\yes\\yes68c84ede-03ec-11ed-bced-94b86dfa62ab.jpg\n",
      "finished\n",
      "photo 2\n",
      "D:\\collectedimages\\yes\\yes6ab2af02-03ec-11ed-9d05-94b86dfa62ab.jpg\n",
      "finished\n",
      "photo 3\n",
      "D:\\collectedimages\\yes\\yes6c837329-03ec-11ed-811e-94b86dfa62ab.jpg\n",
      "finished\n",
      "photo 4\n",
      "D:\\collectedimages\\yes\\yes6e593cf4-03ec-11ed-a58c-94b86dfa62ab.jpg\n",
      "finished\n",
      "photo 5\n",
      "D:\\collectedimages\\yes\\yes702a63f7-03ec-11ed-92d3-94b86dfa62ab.jpg\n",
      "finished\n",
      "photo 6\n",
      "D:\\collectedimages\\yes\\yes71facd3b-03ec-11ed-afc4-94b86dfa62ab.jpg\n",
      "finished\n",
      "photo 7\n",
      "D:\\collectedimages\\yes\\yes73cba71b-03ec-11ed-8a5c-94b86dfa62ab.jpg\n",
      "finished\n",
      "photo 8\n",
      "D:\\collectedimages\\yes\\yes759f5a13-03ec-11ed-b4dc-94b86dfa62ab.jpg\n",
      "finished\n",
      "photo 9\n",
      "D:\\collectedimages\\yes\\yes776f4b00-03ec-11ed-a472-94b86dfa62ab.jpg\n",
      "finished\n",
      "photo 10\n",
      "D:\\collectedimages\\yes\\yes7945eb5b-03ec-11ed-ad51-94b86dfa62ab.jpg\n",
      "finished\n"
     ]
    }
   ],
   "source": [
    "for label in labels:\n",
    "    !mkdir {images_path + '\\\\' + label}\n",
    "    cap = cv2.VideoCapture(0)\n",
    "    print(f'Collecting images for {label}')\n",
    "    time.sleep(5)\n",
    "    for imgnum in range(number_imgs):\n",
    "        print(f\"photo {imgnum+1}\")\n",
    "        ret, frame = cap.read()\n",
    "        imgname = os.path.join(images_path,label,f'{label + str(uuid.uuid1())}.jpg')\n",
    "        print(imgname)\n",
    "        cv2.imwrite(imgname, frame)\n",
    "        cv2.imshow('frame', frame)\n",
    "        print('finished')\n",
    "        time.sleep(3)\n",
    "\n",
    "    cv2.destroyAllWindows()\n",
    "    cap.release()"
   ]
  },
  {
   "cell_type": "code",
   "execution_count": 12,
   "metadata": {},
   "outputs": [
    {
     "name": "stdout",
     "output_type": "stream",
     "text": [
      "hello\n"
     ]
    },
    {
     "ename": "",
     "evalue": "",
     "output_type": "error",
     "traceback": [
      "\u001b[1;31mThe Kernel crashed while executing code in the the current cell or a previous cell. Please review the code in the cell(s) to identify a possible cause of the failure. Click <a href='https://aka.ms/vscodeJupyterKernelCrash'>here</a> for more info. View Jupyter <a href='command:jupyter.viewOutput'>log</a> for further details."
     ]
    }
   ],
   "source": []
  }
 ],
 "metadata": {
  "kernelspec": {
   "display_name": "Python 3.9.7 ('tfod')",
   "language": "python",
   "name": "python3"
  },
  "language_info": {
   "codemirror_mode": {
    "name": "ipython",
    "version": 3
   },
   "file_extension": ".py",
   "mimetype": "text/x-python",
   "name": "python",
   "nbconvert_exporter": "python",
   "pygments_lexer": "ipython3",
   "version": "3.9.7"
  },
  "orig_nbformat": 4,
  "vscode": {
   "interpreter": {
    "hash": "60ed1adad68dc45598249b15bf1e69e519d281128da54992ab8dcad4cd1ad6b2"
   }
  }
 },
 "nbformat": 4,
 "nbformat_minor": 2
}
